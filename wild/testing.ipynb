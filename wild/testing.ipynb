{
 "cells": [
  {
   "cell_type": "code",
   "execution_count": 1,
   "metadata": {},
   "outputs": [
    {
     "data": {
      "application/vnd.jupyter.widget-view+json": {
       "model_id": "d49a5b71444d465890077c13ec1114be",
       "version_major": 2,
       "version_minor": 0
      },
      "text/plain": [
       "sparse_autoencoder.pth:   0%|          | 0.00/104M [00:00<?, ?B/s]"
      ]
     },
     "metadata": {},
     "output_type": "display_data"
    },
    {
     "data": {
      "text/plain": [
       "SparseAutoencoder(\n",
       "  (encoder): Sequential(\n",
       "    (0): Linear(in_features=768, out_features=16896, bias=True)\n",
       "    (1): ReLU()\n",
       "  )\n",
       "  (decoder): Linear(in_features=16896, out_features=768, bias=True)\n",
       ")"
      ]
     },
     "execution_count": 1,
     "metadata": {},
     "output_type": "execute_result"
    }
   ],
   "source": [
    "import torch\n",
    "from models import SparseAutoencoder  # Ensure this matches the model definition you uploaded\n",
    "from huggingface_hub import hf_hub_download\n",
    "import einops\n",
    "\n",
    "# Set parameters\n",
    "repo_name = \"charlieoneill/sparse-coding\"  # Adjust this with your repo name\n",
    "model_filename = \"sparse_autoencoder.pth\"  # Name of the model file you uploaded\n",
    "input_dim = 768  # Example input dim, adjust based on your model\n",
    "hidden_dim = 22 * input_dim  # Projection up parameter * input_dim\n",
    "\n",
    "# Download the model from Hugging Face Hub\n",
    "model_path = hf_hub_download(repo_id=repo_name, filename=model_filename)\n",
    "\n",
    "# Load the model\n",
    "model = SparseAutoencoder(input_dim=input_dim, hidden_dim=hidden_dim)\n",
    "model.load_state_dict(torch.load(model_path, map_location=torch.device('cpu')))\n",
    "model.eval()  # Set the model to evaluation model"
   ]
  },
  {
   "cell_type": "code",
   "execution_count": 2,
   "metadata": {},
   "outputs": [
    {
     "name": "stdout",
     "output_type": "stream",
     "text": [
      "Sparse output shape: torch.Size([8192, 16896])\n",
      "Reconstructed output shape: torch.Size([8192, 768])\n"
     ]
    }
   ],
   "source": [
    "# Generate a sample batch of data (dummy data for this example)\n",
    "batch_size = 64\n",
    "seq_len = 128\n",
    "dummy_input = torch.randn(batch_size, seq_len, input_dim)  # Shape: (batch_size, seq_len, input_dim)\n",
    "\n",
    "# Reshape the input data as done in training\n",
    "dummy_input = einops.rearrange(dummy_input, \"batch pos d_model -> (batch pos) d_model\")\n",
    "\n",
    "# Pass one batch of data through the model\n",
    "with torch.no_grad():\n",
    "    sparse_output, reconstructed_output = model(dummy_input)\n",
    "\n",
    "# Print the shapes of the outputs\n",
    "print(f\"Sparse output shape: {sparse_output.shape}\")\n",
    "print(f\"Reconstructed output shape: {reconstructed_output.shape}\")"
   ]
  },
  {
   "cell_type": "code",
   "execution_count": 4,
   "metadata": {},
   "outputs": [
    {
     "name": "stdout",
     "output_type": "stream",
     "text": [
      "Reconstruction loss: 24.001211166381836\n",
      "L1 loss: 3810.80517578125\n",
      "L0 loss: 8368.216796875\n"
     ]
    }
   ],
   "source": [
    "# Calculate losses\n",
    "from main import loss_fn\n",
    "\n",
    "recon_loss, l1_loss, l0_loss, total_loss = loss_fn(dummy_input, reconstructed_output, sparse_output)\n",
    "print(f\"Reconstruction loss: {recon_loss.item()}\")\n",
    "print(f\"L1 loss: {l1_loss.item()}\")\n",
    "print(f\"L0 loss: {l0_loss.item()}\")"
   ]
  },
  {
   "cell_type": "code",
   "execution_count": null,
   "metadata": {},
   "outputs": [],
   "source": []
  }
 ],
 "metadata": {
  "kernelspec": {
   "display_name": "sparse-inference",
   "language": "python",
   "name": "python3"
  },
  "language_info": {
   "codemirror_mode": {
    "name": "ipython",
    "version": 3
   },
   "file_extension": ".py",
   "mimetype": "text/x-python",
   "name": "python",
   "nbconvert_exporter": "python",
   "pygments_lexer": "ipython3",
   "version": "3.12.4"
  }
 },
 "nbformat": 4,
 "nbformat_minor": 2
}
